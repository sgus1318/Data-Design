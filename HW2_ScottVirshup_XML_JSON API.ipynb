{
 "cells": [
  {
   "cell_type": "markdown",
   "metadata": {},
   "source": [
    "# Part 1 - XML\n",
    "\n",
    "Review the following XML document:\n",
    "\n",
    "``` XML\n",
    "<?xml version=\"1.0\"?> <catalog>\n",
    "    <book id=\"bk102\">\n",
    "        <author>Ralls, Kim</author>\n",
    "        <title>Midnight Rain</title>\n",
    "        <genre>Fantasy</genre>\n",
    "        <price>5.95</price> <publish_date>2000-12-16</publish_date>\n",
    "        <description>A former architect battles corporate zombies, an evil sorceress, and her own childhood to become queen of the world.</description>\n",
    "</book> </catalog>\n",
    "```\n",
    "\n",
    "2. Create an XML Schema for the given XML\n",
    "3. Write a Python program to retrieve price from the XML document"
   ]
  },
  {
   "cell_type": "markdown",
   "metadata": {},
   "source": [
    "##### Part 1: Create and XML Schema\n",
    "\n",
    "``` XML\n",
    "<xs:schema attributeFormDefault=\"unqualified\" elementFormDefault=\"qualified\"\n",
    "    xmlns:xs=\"http://www.w3.org/2001/XMLSchema\">\n",
    "  <xs:element name=\"catalog\">\n",
    "    <xs:complexType>\n",
    "      <xs:sequence>\n",
    "        <xs:element name=\"book\">\n",
    "          <xs:complexType>\n",
    "            <xs:sequence>\n",
    "              <xs:element type=\"xs:string\" name=\"author\"/>\n",
    "              <xs:element type=\"xs:string\" name=\"title\"/>\n",
    "              <xs:element type=\"xs:string\" name=\"genre\"/>\n",
    "              <xs:element type=\"xs:float\" name=\"price\"/>\n",
    "              <xs:element type=\"xs:date\" name=\"publish_date\"/>\n",
    "              <xs:element type=\"xs:string\" name=\"description\"/>\n",
    "            </xs:sequence>\n",
    "            <xs:attribute type=\"xs:string\" name=\"id\"/>\n",
    "          </xs:complexType>\n",
    "        </xs:element>\n",
    "      </xs:sequence>\n",
    "    </xs:complexType>\n",
    "  </xs:element>\n",
    "</xs:schema>\n",
    "```"
   ]
  },
  {
   "cell_type": "code",
   "execution_count": null,
   "metadata": {
    "collapsed": true
   },
   "outputs": [],
   "source": [
    "import xml.etree.ElementTree\n",
    "e = xml.etree.ElementTree.parse('xml file.xml').getroot()\n",
    "\n",
    "# Return all prices of all children within the book\n",
    "for i in e[0].findall('price'):\n",
    "    print(i.text)"
   ]
  },
  {
   "cell_type": "markdown",
   "metadata": {},
   "source": [
    "# Part 2 - JSON API\n",
    "\n",
    "1. Explore the online API to understand the posts JSON data representation:\n",
    "https://jsonplaceholder.typicode.com/posts\n",
    "2. Connect to the online API to receive 500 posts (use JSON library)\n",
    "3. Parse the posts JSON data and load into the MySQL relational database"
   ]
  },
  {
   "cell_type": "code",
   "execution_count": 34,
   "metadata": {},
   "outputs": [
    {
     "data": {
      "text/html": [
       "<div>\n",
       "<style scoped>\n",
       "    .dataframe tbody tr th:only-of-type {\n",
       "        vertical-align: middle;\n",
       "    }\n",
       "\n",
       "    .dataframe tbody tr th {\n",
       "        vertical-align: top;\n",
       "    }\n",
       "\n",
       "    .dataframe thead th {\n",
       "        text-align: right;\n",
       "    }\n",
       "</style>\n",
       "<table border=\"1\" class=\"dataframe\">\n",
       "  <thead>\n",
       "    <tr style=\"text-align: right;\">\n",
       "      <th></th>\n",
       "      <th>body</th>\n",
       "      <th>id</th>\n",
       "      <th>title</th>\n",
       "      <th>userId</th>\n",
       "    </tr>\n",
       "  </thead>\n",
       "  <tbody>\n",
       "    <tr>\n",
       "      <th>0</th>\n",
       "      <td>quia et suscipit\\nsuscipit recusandae consequu...</td>\n",
       "      <td>1</td>\n",
       "      <td>sunt aut facere repellat provident occaecati e...</td>\n",
       "      <td>1</td>\n",
       "    </tr>\n",
       "    <tr>\n",
       "      <th>1</th>\n",
       "      <td>est rerum tempore vitae\\nsequi sint nihil repr...</td>\n",
       "      <td>2</td>\n",
       "      <td>qui est esse</td>\n",
       "      <td>1</td>\n",
       "    </tr>\n",
       "    <tr>\n",
       "      <th>2</th>\n",
       "      <td>et iusto sed quo iure\\nvoluptatem occaecati om...</td>\n",
       "      <td>3</td>\n",
       "      <td>ea molestias quasi exercitationem repellat qui...</td>\n",
       "      <td>1</td>\n",
       "    </tr>\n",
       "    <tr>\n",
       "      <th>3</th>\n",
       "      <td>ullam et saepe reiciendis voluptatem adipisci\\...</td>\n",
       "      <td>4</td>\n",
       "      <td>eum et est occaecati</td>\n",
       "      <td>1</td>\n",
       "    </tr>\n",
       "    <tr>\n",
       "      <th>4</th>\n",
       "      <td>repudiandae veniam quaerat sunt sed\\nalias aut...</td>\n",
       "      <td>5</td>\n",
       "      <td>nesciunt quas odio</td>\n",
       "      <td>1</td>\n",
       "    </tr>\n",
       "  </tbody>\n",
       "</table>\n",
       "</div>"
      ],
      "text/plain": [
       "                                                body  id  \\\n",
       "0  quia et suscipit\\nsuscipit recusandae consequu...   1   \n",
       "1  est rerum tempore vitae\\nsequi sint nihil repr...   2   \n",
       "2  et iusto sed quo iure\\nvoluptatem occaecati om...   3   \n",
       "3  ullam et saepe reiciendis voluptatem adipisci\\...   4   \n",
       "4  repudiandae veniam quaerat sunt sed\\nalias aut...   5   \n",
       "\n",
       "                                               title  userId  \n",
       "0  sunt aut facere repellat provident occaecati e...       1  \n",
       "1                                       qui est esse       1  \n",
       "2  ea molestias quasi exercitationem repellat qui...       1  \n",
       "3                               eum et est occaecati       1  \n",
       "4                                 nesciunt quas odio       1  "
      ]
     },
     "execution_count": 34,
     "metadata": {},
     "output_type": "execute_result"
    }
   ],
   "source": [
    "import requests\n",
    "import pandas as pd\n",
    "\n",
    "posts_100 = requests.get('https://jsonplaceholder.typicode.com/posts/')\n",
    "\n",
    "# Change the type of the object to be JSON\n",
    "posts_100 = posts_100.json()\n",
    "\n",
    "# Convert the JSON object to a pandas dataframe\n",
    "posts_100_df = pd.DataFrame(posts_100)\n",
    "posts_100_df.head()"
   ]
  },
  {
   "cell_type": "code",
   "execution_count": 35,
   "metadata": {
    "collapsed": true
   },
   "outputs": [],
   "source": [
    "# reference: https://www.dataquest.io/blog/python-pandas-databases/\n",
    "\n",
    "import sqlite3\n",
    "\n",
    "sqlite_file = '/Users/scottvirshup/Documents/UC Davis/Q3/Data Design/HW 2/my_db.sqlite'\n",
    "conn = sqlite3.connect(sqlite_file)\n",
    "c = conn.cursor()\n",
    "\n",
    "posts_100_df.to_sql(\"hundred\", conn, if_exists=\"replace\")\n",
    "\n",
    "pd.read_sql_query(\"select * from hundred;\", conn)"
   ]
  }
 ],
 "metadata": {
  "kernelspec": {
   "display_name": "Python 3",
   "language": "python",
   "name": "python3"
  },
  "language_info": {
   "codemirror_mode": {
    "name": "ipython",
    "version": 3
   },
   "file_extension": ".py",
   "mimetype": "text/x-python",
   "name": "python",
   "nbconvert_exporter": "python",
   "pygments_lexer": "ipython3",
   "version": "3.6.3"
  }
 },
 "nbformat": 4,
 "nbformat_minor": 2
}
