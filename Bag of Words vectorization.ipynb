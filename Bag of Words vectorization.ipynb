{
 "cells": [
  {
   "cell_type": "markdown",
   "metadata": {},
   "source": [
    "# Example of Bag of Words Vectorization\n",
    "\n",
    "#### Bag of Words\n",
    "* A way to convert unstructured text data into structured text data as a common vector space.\n",
    "\n",
    "#### A bit about what Bag of Words is:\n",
    "* Vectorization is the general process of turning a collection of text documents into numerical feature vectors\n",
    "* Each document is a literal bag of words. It doesn't care about the sequence of words or sentence structures or anything like that.\n",
    "* Looks at word occurrences and completely ignores relative position information, grammar, punctuation\n",
    "* Usually you convert everything to lowercase, remove punctuation, remove markup, stop-words, etc.\n",
    "* Corpus = collection of text documents\n",
    "* Each word is treated as a feature\n",
    "* 3 step process:\n",
    "    * Tokenization: split document up\n",
    "    * Vocabulary building: all the words in the corpus. Non-repetitive.\n",
    "    * Encoding: transform a sequence of documents into a document-term matrix\n",
    "\n",
    "\n",
    "Based on the given BoW Vocabulary, create a feature vector (vectorized representation) of the following text documents:\n",
    "* John likes to watch movies. Mary likes movies too.\n",
    "* John also likes to watch football games.\n",
    "\n"
   ]
  },
  {
   "cell_type": "markdown",
   "metadata": {},
   "source": [
    "{'john': 3, 'likes': 4, 'to': 7, 'watch': 9, 'movies': 6, 'mary': 5, 'too': 8, 'also': 0, 'football': 1, 'games': 2}"
   ]
  },
  {
   "cell_type": "code",
   "execution_count": 1,
   "metadata": {
    "collapsed": true
   },
   "outputs": [],
   "source": [
    "import numpy as np\n",
    "from sklearn.feature_extraction.text import CountVectorizer"
   ]
  },
  {
   "cell_type": "code",
   "execution_count": 2,
   "metadata": {},
   "outputs": [
    {
     "name": "stdout",
     "output_type": "stream",
     "text": [
      "{'john': 3, 'likes': 4, 'to': 7, 'watch': 9, 'movies': 6, 'mary': 5, 'too': 8, 'also': 0, 'football': 1, 'games': 2}\n",
      "[[0 0 0 1 2 1 2 1 1 1]\n",
      " [1 1 1 1 1 0 0 1 0 1]]\n"
     ]
    }
   ],
   "source": [
    "count = CountVectorizer()\n",
    "docs = np.array([\n",
    "       'John likes to watch movies. Mary likes movies too.',\n",
    "       'John also likes to watch football games.'])\n",
    "bag = count.fit_transform(docs)\n",
    "print(count.vocabulary_)\n",
    "print(bag.toarray())"
   ]
  },
  {
   "cell_type": "markdown",
   "metadata": {},
   "source": [
    "## Output looks like this:\n",
    "[[0 0 0 1 2 1 2 1 1 1]\n",
    "\n",
    " [1 1 1 1 1 0 0 1 0 1]]\n",
    " \n",
    "Each number represents the frequency of the word within the vector, and in the correct order. You can now compare these vectors in terms of similarity to each other in a structured way."
   ]
  }
 ],
 "metadata": {
  "kernelspec": {
   "display_name": "Python 3",
   "language": "python",
   "name": "python3"
  },
  "language_info": {
   "codemirror_mode": {
    "name": "ipython",
    "version": 3
   },
   "file_extension": ".py",
   "mimetype": "text/x-python",
   "name": "python",
   "nbconvert_exporter": "python",
   "pygments_lexer": "ipython3",
   "version": "3.6.3"
  }
 },
 "nbformat": 4,
 "nbformat_minor": 2
}
